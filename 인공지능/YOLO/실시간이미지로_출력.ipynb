{
  "nbformat": 4,
  "nbformat_minor": 0,
  "metadata": {
    "colab": {
      "provenance": []
    },
    "kernelspec": {
      "name": "python3",
      "display_name": "Python 3"
    },
    "language_info": {
      "name": "python"
    }
  },
  "cells": [
    {
      "cell_type": "code",
      "execution_count": null,
      "metadata": {
        "id": "qo1dThh5Y6XW"
      },
      "outputs": [],
      "source": [
        "# Colab 환경 설정\n",
        "!git clone https://github.com/ultralytics/yolov5\n",
        "!pip install -r yolov5/requirements.txt\n",
        "\n",
        "import torch\n",
        "import cv2\n",
        "from google.colab.patches import cv2_imshow\n",
        "\n",
        "# YOLOv5 모델 로드 (사전 학습된 'yolov5s' 사용)\n",
        "model = torch.hub.load('ultralytics/yolov5', 'yolov5s', pretrained=True)\n",
        "\n",
        "# 클래스 필터링 (0: person, 2: car)\n",
        "model.classes = [0, 2]\n",
        "\n",
        "# 비디오 처리 함수\n",
        "def detect_objects(video_path):\n",
        "    cap = cv2.VideoCapture(video_path)\n",
        "\n",
        "    while cap.isOpened():\n",
        "        ret, frame = cap.read()\n",
        "        if not ret:\n",
        "            break\n",
        "\n",
        "        # 객체 탐지 수행\n",
        "        results = model(frame)\n",
        "\n",
        "        # 결과 렌더링 (bounding box 표시)\n",
        "        rendered_frame = results.render()[0]\n",
        "\n",
        "        # Colab에서 프레임 표시\n",
        "        cv2_imshow(rendered_frame)\n",
        "        if cv2.waitKey(1) & 0xFF == ord('q'):\n",
        "            break\n",
        "\n",
        "    cap.release()\n",
        "\n",
        "# 예제 실행\n",
        "# 코드에서 사용된 예제는 PIXABAY의 무료 동영상\n",
        "# 코드 실행하면 영상에 대한 프레임 단위의 bounding box가 출력\n",
        "# 용량으로 인해 출력 결과는 제거하였고, 출력 결과는 프레임 단위의 이미지로 출력\n",
        "detect_objects('/content/YOLO예제_1.mp4')\n"
      ]
    }
  ]
}